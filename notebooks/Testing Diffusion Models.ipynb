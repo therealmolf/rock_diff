{
 "cells": [
  {
   "cell_type": "markdown",
   "metadata": {},
   "source": [
    "### Inference and Finetuning using Pretrained Diffusion Models"
   ]
  },
  {
   "cell_type": "markdown",
   "metadata": {},
   "source": [
    "##### Import"
   ]
  },
  {
   "cell_type": "code",
   "execution_count": 1,
   "metadata": {},
   "outputs": [
    {
     "name": "stderr",
     "output_type": "stream",
     "text": [
      "/home/therealmolf/.virtualenvs/rock_diff/lib/python3.9/site-packages/tqdm/auto.py:21: TqdmWarning: IProgress not found. Please update jupyter and ipywidgets. See https://ipywidgets.readthedocs.io/en/stable/user_install.html\n",
      "  from .autonotebook import tqdm as notebook_tqdm\n"
     ]
    }
   ],
   "source": [
    "import torch\n",
    "from diffusers import DiffusionPipeline, StableDiffusionPipeline"
   ]
  },
  {
   "cell_type": "code",
   "execution_count": 2,
   "metadata": {},
   "outputs": [],
   "source": [
    "%load_ext autoreload\n",
    "%autoreload 2"
   ]
  },
  {
   "cell_type": "markdown",
   "metadata": {},
   "source": [
    "##### Usage\n",
    "\n",
    "To use a [pretrained model from HuggingFace Hub](https://huggingface.co/docs/diffusers/using-diffusers/loading), we:\n",
    "* install `torch`, `transformers`, `diffusers`, `accelerate`, and `datasets`\n",
    "* use a pipeline class from the module/sub-package. The most generic pipeline class for Diffusion Models is DiffusionPipeline. We can also use more specific pipeline classes such as *StableDiffusionPipeline* or *StableDiffusionImg2ImgPipeline*\n",
    "* utilize the from_pretrained() method of the pipeline class to access a pretrained model\n",
    "    * This method should contain everything you need for inference and training e.g. required configs, weight files, etc.\n",
    "* pass the model name or path to the said method\n",
    "* use the pipeline with a prompt if necessary\n",
    "\n",
    "____\n",
    "\n",
    "RANDOM NOTE:\n",
    "* Pipelines did not work without **BOTH** torch and transformers"
   ]
  },
  {
   "cell_type": "code",
   "execution_count": null,
   "metadata": {},
   "outputs": [],
   "source": [
    "REPO_ID = \"CompVis/stable-diffusion-v1-4\"\n",
    "\n",
    "pipe = DiffusionPipeline.from_pretrained(REPO_ID)"
   ]
  },
  {
   "cell_type": "code",
   "execution_count": null,
   "metadata": {},
   "outputs": [],
   "source": [
    "repo_id = \"runwayml/stable-diffusion-v1-5\"\n",
    "pipe = StableDiffusionPipeline.from_pretrained(repo_id)"
   ]
  },
  {
   "cell_type": "markdown",
   "metadata": {},
   "source": [
    "[DDDPMPipeline for Basic Unconditional Image Generation](https://huggingface.co/docs/diffusers/api/pipelines/ddpm)"
   ]
  },
  {
   "cell_type": "code",
   "execution_count": 3,
   "metadata": {},
   "outputs": [
    {
     "name": "stderr",
     "output_type": "stream",
     "text": [
      "Loading pipeline components...: 100%|██████████| 2/2 [00:00<00:00,  7.86it/s]\n",
      " 10%|▉         | 99/1000 [05:28<49:11,  3.28s/it] "
     ]
    }
   ],
   "source": [
    "from diffusers import DDPMPipeline\n",
    "\n",
    "# load model and scheduler\n",
    "pipe = DDPMPipeline.from_pretrained(\"google/ddpm-cat-256\")\n",
    "\n",
    "# run pipeline in inference (sample random noise and denoise)\n",
    "image = pipe().images[0]\n",
    "\n",
    "# save image\n",
    "image.save(\"ddpm_generated_image.png\")"
   ]
  }
 ],
 "metadata": {
  "kernelspec": {
   "display_name": "rock_diff",
   "language": "python",
   "name": "python3"
  },
  "language_info": {
   "codemirror_mode": {
    "name": "ipython",
    "version": 3
   },
   "file_extension": ".py",
   "mimetype": "text/x-python",
   "name": "python",
   "nbconvert_exporter": "python",
   "pygments_lexer": "ipython3",
   "version": "3.9.5"
  },
  "orig_nbformat": 4
 },
 "nbformat": 4,
 "nbformat_minor": 2
}
